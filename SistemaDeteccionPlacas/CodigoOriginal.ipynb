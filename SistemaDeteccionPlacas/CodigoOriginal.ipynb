{
 "cells": [
  {
   "cell_type": "code",
   "execution_count": 11,
   "metadata": {},
   "outputs": [
    {
     "name": "stdout",
     "output_type": "stream",
     "text": [
      "Collecting pytesseract\n",
      "  Using cached pytesseract-0.3.13-py3-none-any.whl.metadata (11 kB)\n",
      "Collecting opencv-python-headless\n",
      "  Using cached opencv_python_headless-4.10.0.84-cp37-abi3-win_amd64.whl.metadata (20 kB)\n"
     ]
    },
    {
     "name": "stderr",
     "output_type": "stream",
     "text": [
      "ERROR: Could not find a version that satisfies the requirement mediapipe (from versions: none)\n",
      "ERROR: No matching distribution found for mediapipe\n"
     ]
    }
   ],
   "source": [
    "#! pip install pytesseract opencv-python-headless mediapipe PyQt5\n"
   ]
  },
  {
   "cell_type": "code",
   "execution_count": 12,
   "metadata": {},
   "outputs": [
    {
     "name": "stdout",
     "output_type": "stream",
     "text": [
      "Collecting opencv-python\n",
      "  Using cached opencv_python-4.10.0.84-cp37-abi3-win_amd64.whl.metadata (20 kB)\n"
     ]
    },
    {
     "name": "stderr",
     "output_type": "stream",
     "text": [
      "ERROR: Could not find a version that satisfies the requirement mediapipe (from versions: none)\n",
      "ERROR: No matching distribution found for mediapipe\n"
     ]
    }
   ],
   "source": [
    "#! pip install opencv-python mediapipe PyQt5\n",
    "\n"
   ]
  },
  {
   "cell_type": "code",
   "execution_count": 13,
   "metadata": {},
   "outputs": [
    {
     "name": "stdout",
     "output_type": "stream",
     "text": [
      "Collecting PyQt5\n",
      "  Using cached PyQt5-5.15.11-cp38-abi3-win_amd64.whl.metadata (2.1 kB)\n",
      "Collecting PyQt5-sip<13,>=12.15 (from PyQt5)\n",
      "  Downloading PyQt5_sip-12.16.1-cp313-cp313-win_amd64.whl.metadata (439 bytes)\n",
      "Collecting PyQt5-Qt5<5.16.0,>=5.15.2 (from PyQt5)\n",
      "  Using cached PyQt5_Qt5-5.15.2-py3-none-win_amd64.whl.metadata (552 bytes)\n",
      "Using cached PyQt5-5.15.11-cp38-abi3-win_amd64.whl (6.9 MB)\n",
      "Using cached PyQt5_Qt5-5.15.2-py3-none-win_amd64.whl (50.1 MB)\n",
      "Downloading PyQt5_sip-12.16.1-cp313-cp313-win_amd64.whl (57 kB)\n",
      "Installing collected packages: PyQt5-Qt5, PyQt5-sip, PyQt5\n",
      "Successfully installed PyQt5-5.15.11 PyQt5-Qt5-5.15.2 PyQt5-sip-12.16.1\n"
     ]
    }
   ],
   "source": [
    "#! pip install PyQt5       \n"
   ]
  },
  {
   "cell_type": "code",
   "execution_count": 14,
   "metadata": {},
   "outputs": [
    {
     "name": "stdout",
     "output_type": "stream",
     "text": [
      "Collecting opencv-python-headless\n",
      "  Using cached opencv_python_headless-4.10.0.84-cp37-abi3-win_amd64.whl.metadata (20 kB)\n",
      "Collecting pytesseract\n",
      "  Using cached pytesseract-0.3.13-py3-none-any.whl.metadata (11 kB)\n"
     ]
    },
    {
     "name": "stderr",
     "output_type": "stream",
     "text": [
      "ERROR: Could not find a version that satisfies the requirement mediapipe (from versions: none)\n",
      "ERROR: No matching distribution found for mediapipe\n"
     ]
    }
   ],
   "source": [
    "#! pip install opencv-python-headless pytesseract mediapipe PyQt5\n"
   ]
  },
  {
   "cell_type": "code",
   "execution_count": 16,
   "metadata": {},
   "outputs": [
    {
     "name": "stdout",
     "output_type": "stream",
     "text": [
      "Collecting opencv-python\n",
      "  Using cached opencv_python-4.10.0.84-cp37-abi3-win_amd64.whl.metadata (20 kB)\n",
      "Collecting numpy>=1.21.2 (from opencv-python)\n",
      "  Downloading numpy-2.2.1-cp313-cp313-win_amd64.whl.metadata (60 kB)\n",
      "Using cached opencv_python-4.10.0.84-cp37-abi3-win_amd64.whl (38.8 MB)\n",
      "Downloading numpy-2.2.1-cp313-cp313-win_amd64.whl (12.6 MB)\n",
      "   ---------------------------------------- 0.0/12.6 MB ? eta -:--:--\n",
      "   ----------------------- ---------------- 7.3/12.6 MB 43.3 MB/s eta 0:00:01\n",
      "   ---------------------------------------- 12.6/12.6 MB 42.8 MB/s eta 0:00:00\n",
      "Installing collected packages: numpy, opencv-python\n",
      "Successfully installed numpy-2.2.1 opencv-python-4.10.0.84\n"
     ]
    }
   ],
   "source": [
    "#! pip install opencv-python"
   ]
  },
  {
   "cell_type": "code",
   "execution_count": 18,
   "metadata": {},
   "outputs": [
    {
     "name": "stdout",
     "output_type": "stream",
     "text": [
      "Collecting pytesseract\n",
      "  Using cached pytesseract-0.3.13-py3-none-any.whl.metadata (11 kB)\n",
      "Requirement already satisfied: packaging>=21.3 in c:\\users\\gabri\\onedrive\\escritorio\\proyectointeligenciaartificial\\.venv\\lib\\site-packages (from pytesseract) (24.2)\n",
      "Collecting Pillow>=8.0.0 (from pytesseract)\n",
      "  Downloading pillow-11.1.0-cp313-cp313-win_amd64.whl.metadata (9.3 kB)\n",
      "Using cached pytesseract-0.3.13-py3-none-any.whl (14 kB)\n",
      "Downloading pillow-11.1.0-cp313-cp313-win_amd64.whl (2.6 MB)\n",
      "   ---------------------------------------- 0.0/2.6 MB ? eta -:--:--\n",
      "   ---------------------------------------- 2.6/2.6 MB 27.9 MB/s eta 0:00:00\n",
      "Installing collected packages: Pillow, pytesseract\n",
      "Successfully installed Pillow-11.1.0 pytesseract-0.3.13\n"
     ]
    }
   ],
   "source": [
    "#! pip install pytesseract"
   ]
  },
  {
   "cell_type": "code",
   "execution_count": 1,
   "metadata": {},
   "outputs": [],
   "source": [
    "import sys\n",
    "import cv2\n",
    "import pytesseract\n",
    "from PyQt5.QtWidgets import QApplication, QMainWindow, QPushButton, QLabel, QFileDialog, QVBoxLayout, QWidget, QDialog\n",
    "from PyQt5.QtGui import QPixmap, QImage\n",
    "from PyQt5.QtCore import Qt"
   ]
  },
  {
   "cell_type": "code",
   "execution_count": 3,
   "metadata": {},
   "outputs": [],
   "source": [
    "# Configuración de Tesseract (asegúrate de que la ruta sea correcta)\n",
    "pytesseract.pytesseract.tesseract_cmd = r'C:\\Program Files\\Tesseract-OCR\\tesseract.exe'\n",
    "\n",
    "# Diccionario de provincias y meses de matrícula\n",
    "provincias = {\n",
    "    \"A\": \"Azuay\", \"B\": \"Bolívar\", \"C\": \"Carchi\", \"H\": \"Chimborazo\", \"X\": \"Cotopaxi\",\n",
    "    \"E\": \"Esmeraldas\", \"J\": \"Galápagos\", \"G\": \"Guayas\", \"I\": \"Imbabura\", \"L\": \"Loja\",\n",
    "    \"O\": \"Los Ríos\", \"M\": \"Manabí\", \"R\": \"Morona Santiago\", \"N\": \"Napo\", \"S\": \"Pastaza\",\n",
    "    \"P\": \"Pichincha\", \"Q\": \"Orellana\", \"K\": \"Sucumbíos\", \"T\": \"Tungurahua\", \"U\": \"Zamora Chinchipe\",\n",
    "    \"W\": \"Santa Elena\", \"Y\": \"Santo Domingo\", \"Z\": \"Zamora\"\n",
    "}\n",
    "\n",
    "meses_matricula = {\n",
    "    \"1\": \"Febrero\", \"2\": \"Marzo\", \"3\": \"Abril\", \"4\": \"Mayo\", \"5\": \"Junio\",\n",
    "    \"6\": \"Julio\", \"7\": \"Agosto\", \"8\": \"Septiembre\", \"9\": \"Octubre\", \"0\": \"Noviembre\"\n",
    "}"
   ]
  },
  {
   "cell_type": "code",
   "execution_count": 4,
   "metadata": {},
   "outputs": [
    {
     "name": "stderr",
     "output_type": "stream",
     "text": [
      "c:\\Users\\gabri\\OneDrive\\Escritorio\\ProyectoInteligenciaArtificial\\EntornoVirt\\lib\\site-packages\\ipykernel_launcher.py:1: DeprecationWarning: sipPyTypeDict() is deprecated, the extension module should use sipPyTypeDictRef() instead\n",
      "  \"\"\"Entry point for launching an IPython kernel.\n",
      "c:\\Users\\gabri\\OneDrive\\Escritorio\\ProyectoInteligenciaArtificial\\EntornoVirt\\lib\\site-packages\\ipykernel_launcher.py:19: DeprecationWarning: sipPyTypeDict() is deprecated, the extension module should use sipPyTypeDictRef() instead\n"
     ]
    },
    {
     "name": "stdout",
     "output_type": "stream",
     "text": [
      "No se seleccionó ningún archivo.\n"
     ]
    },
    {
     "ename": "SystemExit",
     "evalue": "0",
     "output_type": "error",
     "traceback": [
      "An exception has occurred, use %tb to see the full traceback.\n",
      "\u001b[1;31mSystemExit\u001b[0m\u001b[1;31m:\u001b[0m 0\n"
     ]
    },
    {
     "name": "stderr",
     "output_type": "stream",
     "text": [
      "c:\\Users\\gabri\\OneDrive\\Escritorio\\ProyectoInteligenciaArtificial\\EntornoVirt\\lib\\site-packages\\IPython\\core\\interactiveshell.py:3561: UserWarning: To exit: use 'exit', 'quit', or Ctrl-D.\n",
      "  warn(\"To exit: use 'exit', 'quit', or Ctrl-D.\", stacklevel=1)\n"
     ]
    }
   ],
   "source": [
    "class ImageViewer(QDialog):\n",
    "    def __init__(self, image, title=\"Imagen\"):\n",
    "        super().__init__()\n",
    "        self.setWindowTitle(title)\n",
    "        self.layout = QVBoxLayout()\n",
    "        self.label = QLabel()\n",
    "        self.layout.addWidget(self.label)\n",
    "        self.setLayout(self.layout)\n",
    "        \n",
    "        # Convertir imagen OpenCV a formato Qt\n",
    "        height, width, channel = image.shape\n",
    "        bytes_per_line = 3 * width\n",
    "        qimage = QImage(image.data, width, height, bytes_per_line, QImage.Format_RGB888).rgbSwapped()\n",
    "        pixmap = QPixmap.fromImage(qimage)\n",
    "        self.label.setPixmap(pixmap)\n",
    "        self.resize(pixmap.size())\n",
    "\n",
    "\n",
    "class App(QMainWindow):\n",
    "    def __init__(self):\n",
    "        super().__init__()\n",
    "        self.initUI()\n",
    "\n",
    "    def initUI(self):\n",
    "        self.setWindowTitle('Reconocimiento de Placas Ecuatorianas')\n",
    "        self.setGeometry(100, 100, 400, 300)\n",
    "\n",
    "        layout = QVBoxLayout()\n",
    "\n",
    "        label = QLabel(\"Seleccione una opción:\")\n",
    "        label.setAlignment(Qt.AlignCenter)\n",
    "        layout.addWidget(label)\n",
    "\n",
    "        btn_image = QPushButton(\"Reconocer placa en imagen\", self)\n",
    "        btn_image.clicked.connect(self.reconocer_placa_imagen)\n",
    "        layout.addWidget(btn_image)\n",
    "\n",
    "        btn_video = QPushButton(\"Reconocer placa en video\", self)\n",
    "        btn_video.clicked.connect(self.reconocer_placa_video)\n",
    "        layout.addWidget(btn_video)\n",
    "\n",
    "        btn_exit = QPushButton(\"Salir\", self)\n",
    "        btn_exit.clicked.connect(self.salir)\n",
    "        layout.addWidget(btn_exit)\n",
    "\n",
    "        container = QWidget()\n",
    "        container.setLayout(layout)\n",
    "        self.setCentralWidget(container)\n",
    "\n",
    "    def extraer_datos_placa(self, texto_placa):\n",
    "        texto_placa = texto_placa.strip().upper()\n",
    "        if len(texto_placa) < 6:  # Validar longitud mínima de una placa\n",
    "            return None, None\n",
    "\n",
    "        provincia = provincias.get(texto_placa[0], \"Desconocida\")\n",
    "        ultimo_digito = texto_placa[-1]\n",
    "        mes = meses_matricula.get(ultimo_digito, \"Desconocido\")\n",
    "        return provincia, mes\n",
    "\n",
    "    def mostrar_info_placa(self, image, provincia, mes):\n",
    "        cv2.putText(image, f\"Provincia: {provincia}\", (10, 50), cv2.FONT_HERSHEY_SIMPLEX, 1, (0, 255, 0), 2)\n",
    "        cv2.putText(image, f\"Mes Matricula: {mes}\", (10, 90), cv2.FONT_HERSHEY_SIMPLEX, 1, (0, 255, 0), 2)\n",
    "\n",
    "    def reconocer_placa_imagen(self):\n",
    "        options = QFileDialog.Options()\n",
    "        file_path, _ = QFileDialog.getOpenFileName(self, \"Seleccionar Imagen\", \"\", \"Archivos de Imagen (*.png *.jpg *.jpeg)\", options=options)\n",
    "\n",
    "        if not file_path:\n",
    "            print(\"No se seleccionó ningún archivo.\")\n",
    "            return\n",
    "\n",
    "        image = cv2.imread(file_path)\n",
    "        if image is None:\n",
    "            print(\"Error al leer la imagen.\")\n",
    "            return\n",
    "\n",
    "        gray = cv2.cvtColor(image, cv2.COLOR_BGR2GRAY)\n",
    "        texto_placa = pytesseract.image_to_string(gray, config='--oem 3 --psm 8').strip()\n",
    "        print(f\"Texto detectado: {texto_placa}\")\n",
    "\n",
    "        provincia, mes = self.extraer_datos_placa(texto_placa)\n",
    "        if provincia and mes:\n",
    "            self.mostrar_info_placa(image, provincia, mes)\n",
    "        else:\n",
    "            cv2.putText(image, \"Placa no detectada o inválida\", (10, 50), cv2.FONT_HERSHEY_SIMPLEX, 1, (0, 0, 255), 2)\n",
    "\n",
    "        # Mostrar imagen en el visor de PyQt5\n",
    "        viewer = ImageViewer(image, title=\"Reconocimiento de Placa\")\n",
    "        viewer.exec_()\n",
    "\n",
    "    def reconocer_placa_video(self):\n",
    "        cap = cv2.VideoCapture(0)\n",
    "        if not cap.isOpened():\n",
    "            print(\"Error al abrir la cámara.\")\n",
    "            return\n",
    "\n",
    "        while True:\n",
    "            ret, frame = cap.read()\n",
    "            if not ret:\n",
    "                print(\"Error al leer el frame del video.\")\n",
    "                break\n",
    "\n",
    "            gray = cv2.cvtColor(frame, cv2.COLOR_BGR2GRAY)\n",
    "            texto_placa = pytesseract.image_to_string(gray, config='--oem 3 --psm 8').strip()\n",
    "            provincia, mes = self.extraer_datos_placa(texto_placa)\n",
    "\n",
    "            if provincia and mes:\n",
    "                self.mostrar_info_placa(frame, provincia, mes)\n",
    "            else:\n",
    "                cv2.putText(frame, \"Placa no detectada\", (10, 50), cv2.FONT_HERSHEY_SIMPLEX, 1, (0, 0, 255), 2)\n",
    "\n",
    "            cv2.imshow(\"Reconocimiento de Placa en Video\", frame)\n",
    "            if cv2.waitKey(1) & 0xFF == ord('q'):\n",
    "                break\n",
    "\n",
    "        cap.release()\n",
    "        cv2.destroyAllWindows()\n",
    "\n",
    "    def salir(self):\n",
    "        self.close()\n",
    "\n",
    "\n",
    "if __name__ == '__main__':\n",
    "    app = QApplication(sys.argv)\n",
    "    ex = App()\n",
    "    ex.show()\n",
    "    sys.exit(app.exec_())\n"
   ]
  }
 ],
 "metadata": {
  "kernelspec": {
   "display_name": "EntornoVirt",
   "language": "python",
   "name": "python3"
  },
  "language_info": {
   "codemirror_mode": {
    "name": "ipython",
    "version": 3
   },
   "file_extension": ".py",
   "mimetype": "text/x-python",
   "name": "python",
   "nbconvert_exporter": "python",
   "pygments_lexer": "ipython3",
   "version": "3.7.0"
  }
 },
 "nbformat": 4,
 "nbformat_minor": 2
}
